{
 "cells": [
  {
   "cell_type": "code",
   "execution_count": null,
   "metadata": {},
   "outputs": [],
   "source": []
  },
  {
   "cell_type": "markdown",
   "metadata": {},
   "source": [
    "# 这是幻灯片的界面"
   ]
  },
  {
   "cell_type": "code",
   "execution_count": null,
   "metadata": {},
   "outputs": [],
   "source": [
    "from mosaic import sideshow\n",
    "# 但是现在的要求是，在html_src下会有很多的子文件夹\n",
    "# 如 ruankao，network\n",
    "# 我需要将他们都按照横条切碎，然后都放到那个dist目录下就OK了\n",
    "# 那这个我就别放数字了，就放文件名称吧\n",
    "sideshow(\"ruankao\",0)"
   ]
  },
  {
   "cell_type": "code",
   "execution_count": null,
   "metadata": {},
   "outputs": [],
   "source": [
    "sideshow(\"ruankao\",1)"
   ]
  },
  {
   "cell_type": "code",
   "execution_count": null,
   "metadata": {},
   "outputs": [],
   "source": []
  },
  {
   "cell_type": "markdown",
   "metadata": {},
   "source": [
    "# 这是代码的界面"
   ]
  },
  {
   "cell_type": "code",
   "execution_count": null,
   "metadata": {},
   "outputs": [],
   "source": [
    "from ipywidgets.embed import embed_minimal_html, dependency_state\n",
    "from IPython.display import HTML"
   ]
  },
  {
   "cell_type": "code",
   "execution_count": null,
   "metadata": {},
   "outputs": [],
   "source": [
    "\n",
    "# embed_minimal_html('tab.html', views=[tab])"
   ]
  },
  {
   "cell_type": "code",
   "execution_count": null,
   "metadata": {},
   "outputs": [],
   "source": [
    "html=widgets.HTML(\n",
    "    value=\"Hello <b>World</b>\",\n",
    "    placeholder='Some HTML',\n",
    "    description='Some HTML',\n",
    ")\n",
    "embed_minimal_html(\"code.html\",views=[html])"
   ]
  },
  {
   "cell_type": "code",
   "execution_count": null,
   "metadata": {},
   "outputs": [],
   "source": [
    "from pygments import highlight\n",
    "from pygments.lexers import get_lexer_by_name\n",
    "from pygments.formatters import HtmlFormatter\n",
    "from IPython.display import HTML\n",
    "\n",
    "# 给定的 C 语言代码\n",
    "c_code = \"\"\"\n",
    "#include <stdio.h>\n",
    "\n",
    "int main() {\n",
    "    printf(\"Hello, World!\\\\n\");\n",
    "    return 0;\n",
    "}\n",
    "\"\"\"\n",
    "\n",
    "# 指定代码语言为 C\n",
    "lexer = get_lexer_by_name(\"c\", stripall=True)\n",
    "\n",
    "# 使用 HtmlFormatter 将代码转换为 HTML\n",
    "formatter = HtmlFormatter(style=\"colorful\",  linenos=\"inline\", linepad=3,cssclass='my-code')\n",
    "highlighted_code = highlight(c_code, lexer, formatter)\n",
    "\n",
    "# 自定义 CSS 样式\n",
    "style = \"\"\"\n",
    "<style>\n",
    ".my-code .lineno {\n",
    "    padding-right: 30px; /* 增加行号和代码之间的距离 */\n",
    "    color: #888; /* 设置行号的颜色 */\n",
    "}\n",
    ".my-code pre{\n",
    "    background-color:#f5f5f5; /* 设置背景颜色 */\n",
    "    padding: 10px; /* 设置内边距 */\n",
    "    border-radius: 5px; /* 设置边框圆角 */\n",
    "}\n",
    "</style>\n",
    "\"\"\"\n",
    "\n",
    "# 将 HTML 代码和自定义样式结合显示在 Jupyter Notebook 中\n",
    "display_html = style + highlighted_code\n",
    "# 将 HTML 代码显示在 Jupyter Notebook 中\n",
    "HTML(highlighted_code)"
   ]
  },
  {
   "cell_type": "code",
   "execution_count": null,
   "metadata": {},
   "outputs": [],
   "source": [
    "from mosaic import *\n",
    "demo(\"peterson\",\"c/peterson.c\",libs=[\"thread.h\",\"thread-sync.h\"])"
   ]
  },
  {
   "cell_type": "code",
   "execution_count": null,
   "metadata": {},
   "outputs": [],
   "source": [
    "from pygments import highlight\n",
    "from pygments.lexers import get_lexer_by_name\n",
    "from pygments.formatters import HtmlFormatter\n",
    "from IPython.display import HTML\n",
    "\n",
    "# 给定的 C 语言代码\n",
    "c_code = \"\"\"\n",
    "#include <stdio.h>\n",
    "\n",
    "int main() {\n",
    "    printf(\"Hello, World!\\\\n\");\n",
    "    return 0;\n",
    "}\n",
    "\"\"\"\n",
    "\n",
    "# 指定代码语言为 C\n",
    "lexer = get_lexer_by_name(\"c\", stripall=True)\n",
    "\n",
    "# 使用 HtmlFormatter 将代码转换为 HTML，并增加自定义 CSS 类\n",
    "formatter = HtmlFormatter(style=\"colorful\", linenos=\"inline\", linepad=3, cssclass='my-code')\n",
    "\n",
    "# 生成高亮的 HTML 代码\n",
    "highlighted_code = highlight(c_code, lexer, formatter)\n",
    "\n",
    "# 获取 Pygments 生成的样式\n",
    "pygments_style = f\"<style>{formatter.get_style_defs('.my-code')}</style>\"\n",
    "\n",
    "# 自定义 CSS 样式\n",
    "custom_style = \"\"\"\n",
    "<style>\n",
    ".my-code .linenos {\n",
    "    padding-right: 10px !important; /* 增加行号和代码之间的距离 */\n",
    "    user-select: none; !important /* 防止行号被选择和复制 */\n",
    "    color: #888; /* 设置行号的颜色 */\n",
    "}\n",
    ".my-code pre {\n",
    "    \n",
    "    background-color: #f7f7f7; /* 设置背景颜色 */\n",
    "    border-radius: 5px; /* 设置边框圆角 */\n",
    "}\n",
    "</style>\n",
    "\"\"\"\n",
    "\n",
    "# 将 Pygments 的样式和自定义样式结合\n",
    "full_style = pygments_style + custom_style\n",
    "\n",
    "# 将 HTML 代码和样式结合显示在 Jupyter Notebook 中\n",
    "display_html = full_style + highlighted_code\n",
    "HTML(display_html)\n"
   ]
  },
  {
   "cell_type": "code",
   "execution_count": null,
   "metadata": {},
   "outputs": [],
   "source": [
    "import ipywidgets as widgets\n",
    "from ipywidgets.embed import embed_minimal_html, dependency_state\n",
    "\n",
    "\n",
    "\n",
    "children = [widgets.HTML(value=display_html) for _ in range(0,5)]\n",
    "# children=list(map(lambda obj: setattr(obj, 'value', display_html), children))\n",
    "tab = widgets.Tab()\n",
    "tab.children = children\n",
    "tab.titles = [str(i) for i in range(len(children))]\n",
    "embed_minimal_html('tab.html', views=[tab])\n",
    "\n",
    "HTML(\"./tab.html\")"
   ]
  },
  {
   "cell_type": "code",
   "execution_count": null,
   "metadata": {},
   "outputs": [],
   "source": []
  },
  {
   "cell_type": "code",
   "execution_count": null,
   "metadata": {},
   "outputs": [],
   "source": []
  },
  {
   "cell_type": "markdown",
   "metadata": {},
   "source": []
  }
 ],
 "metadata": {
  "kernelspec": {
   "display_name": "dataprocess",
   "language": "python",
   "name": "python3"
  },
  "language_info": {
   "codemirror_mode": {
    "name": "ipython",
    "version": 3
   },
   "file_extension": ".py",
   "mimetype": "text/x-python",
   "name": "python",
   "nbconvert_exporter": "python",
   "pygments_lexer": "ipython3",
   "version": "3.11.5"
  }
 },
 "nbformat": 4,
 "nbformat_minor": 2
}

{
 "cells": [
  {
   "cell_type": "code",
   "execution_count": null,
   "metadata": {
    "slideshow": {
     "slide_type": "-"
    }
   },
   "outputs": [],
   "source": [
    "import sys\n",
    "print(sys.executable)"
   ]
  },
  {
   "cell_type": "markdown",
   "metadata": {},
   "source": []
  },
  {
   "cell_type": "markdown",
   "metadata": {},
   "source": []
  },
  {
   "cell_type": "markdown",
   "metadata": {},
   "source": [
    "# 我们今天的主题是"
   ]
  },
  {
   "cell_type": "markdown",
   "metadata": {},
   "source": [
    "## 切片还是从0开始的，然后反向是从-1开始的，一定要记住，切片不包含最后一位\n",
    "## python除的话结果还是小数\n",
    "## 好像就randint这个范围会返回两个边界的值\n",
    "## from 后面一定要跟 import，不跟import编译都不给你过\n",
    "\n"
   ]
  },
  {
   "cell_type": "markdown",
   "metadata": {},
   "source": []
  },
  {
   "cell_type": "code",
   "execution_count": null,
   "metadata": {},
   "outputs": [],
   "source": [
    "# import numpy\n",
    "# s=123\n",
    "# tempstr=\"Pi=3.141593\"\n",
    "# \n",
    "# \n",
    "# eval('500/10')\n",
    "# x1=lambda x: x*2 \n",
    "# x2=lambda x: x**2\n",
    "# print(x1(x2(2)))\n",
    "\n",
    "# import random\n",
    "# \n",
    "# # random.randint(1,6)\n",
    "# def many_args(num1,num2,*args):\n",
    "#     print(args)\n",
    "# many_args(1,2,3,4,5)\n",
    "# from mosaic import sideshow\n",
    "# sideshow\n",
    "# f=lambda x,y:x*y\n",
    "# f(12,34)\n",
    "# def chanageList(list): \n",
    "#     list.append(\" end\") \n",
    "#     print(\"list\",list) \n",
    "# strs =['1','2'] \n",
    "# chanageList(strs) \n",
    "# print(\"strs\",strs)\n",
    "# s=\"python\"\n",
    "# print(s[0].upper()+s[1:-1]) \n",
    "# print(s[-3])\n",
    "# i=1\n",
    "# while i<6:\n",
    "#     j=0\n",
    "#     while j<i:\n",
    "#         print(\"*\",end='')\n",
    "#         j+=1\n",
    "#     print('\\n')\n",
    "#     i+=1;sd=2;ssda=2\n"
   ]
  },
  {
   "cell_type": "code",
   "execution_count": 5,
   "metadata": {},
   "outputs": [
    {
     "name": "stdout",
     "output_type": "stream",
     "text": [
      "World\n"
     ]
    }
   ],
   "source": [
    "TempStr=\"Hello World\"\n",
    "print(TempStr[-5:])"
   ]
  },
  {
   "cell_type": "code",
   "execution_count": 43,
   "metadata": {},
   "outputs": [
    {
     "name": "stdout",
     "output_type": "stream",
     "text": [
      "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\n",
      "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\n"
     ]
    }
   ],
   "source": [
    "import random\n",
    "import string\n",
    "\n",
    "# 生成随机字符串的函数\n",
    "def generate_random_string(length):\n",
    "    letters = string.ascii_letters  # 包括大小写字母的所有字母\n",
    "    return ''.join(random.choice(letters) for _ in range(length))\n",
    "\n",
    "# 生成两个长度为 10000 的随机字符串\n",
    "random_string1 = generate_random_string(10000)\n",
    "random_string2 = generate_random_string(10000)\n",
    "\n",
    "print(random_string1)\n",
    "print(random_string2)"
   ]
  },
  {
   "cell_type": "code",
   "execution_count": null,
   "metadata": {},
   "outputs": [],
   "source": []
  },
  {
   "cell_type": "code",
   "execution_count": null,
   "metadata": {},
   "outputs": [],
   "source": []
  },
  {
   "cell_type": "code",
   "execution_count": null,
   "metadata": {},
   "outputs": [],
   "source": []
  },
  {
   "cell_type": "markdown",
   "metadata": {},
   "source": []
  },
  {
   "cell_type": "markdown",
   "metadata": {},
   "source": [
    "***即使没有显式的return语句，函数会返回默认的None***\n",
    "***在函数内部没有任何声明的情况下直接为一个变量赋值，这个变量一定是函数内部的局部变量***\n",
    "***在python中，允许对象动态地增加属性***\n",
    "***将函数赋给对象的属性和将函数定义为类的方法有什么区别***<br>\n",
    "绑定对象：将函数赋给对象的属性时，函数不会自动绑定到对象。这意味着函数无法访问或修改对象的属性或其他方法，因为它没有关于对象的引用。在这种情况下，你必须明确传递对象作为函数的参数，以便在函数内部使用对象的数据。相反，类的方法自动绑定到对象，可以隐式访问对象的数据和其他方法。\n",
    "\n",
    "可继承性：将函数定义为类的方法时，它们可以在类的所有实例之间共享，并且可以被子类继承。这是面向对象编程的重要特性，允许你创建可重用和可扩展的类。将函数赋给对象的属性时，它只属于该对象，不会自动传播到其他对象或子类。\n",
    "\n",
    "代码结构：将函数定义为方法通常更具可读性，因为它们将操作与对象的定义联系在一起。对象的方法通常在类定义中文档化，使代码更易理解。\n",
    "\n",
    "代码约定：在Python中，通常使用方法来表示对象的行为。将函数赋给对象的属性通常被认为是一种不太常见的做法，除非有特定的需求。这违反了通常的编程约定，可能会导致代码的可维护性下降。"
   ]
  },
  {
   "cell_type": "code",
   "execution_count": null,
   "metadata": {},
   "outputs": [],
   "source": [
    "# def my_fun():\n",
    "#     print(\"我要吃饭\")\n",
    "# my_funs=my_fun();\n",
    "# print(my_funs)\n",
    "# lambda x,y:(x+y)*(x-(x/y))\n",
    "# my=2\n",
    "# def ssd():\n",
    "#     global You\n",
    "#     you=2\n",
    "# print(you)"
   ]
  },
  {
   "cell_type": "markdown",
   "metadata": {},
   "source": [
    "对于不可变对象（如数字、字符串、元组），函数内部的形参操作不会影响实参的值，因为不可变对象在函数内部是只读的。任何对形参的修改都会创建一个新的对象，而不会影响实际参数。<br>\n",
    "对于可变对象（如列表、字典），函数内部的形参操作可能会影响实参的值，因为可变对象可以在函数内部进行修改。这是因为实际参数和形式参数引用的是同一个对象。\n",
    "python\n"
   ]
  },
  {
   "cell_type": "code",
   "execution_count": null,
   "metadata": {},
   "outputs": [],
   "source": [
    "def facT(num):\n",
    "    if num==1:\n",
    "        return 1\n",
    "    else:\n",
    "        return num+facT(num-1)\n",
    "   \n",
    "print(facT(4))   "
   ]
  },
  {
   "cell_type": "code",
   "execution_count": null,
   "metadata": {},
   "outputs": [],
   "source": [
    "# import time\n",
    "# def timmmer():\n",
    "#     def wrapper(*args,**kwargs):\n",
    "#         start=time.time()\n",
    "#         func(*args,)\n",
    "# def fun(a=3):\n",
    "#     return a-1\n",
    "# print(fun(fun(fun())))\n",
    "# def the(**k):\n",
    "#     print(k)\n",
    "# the(a=1,b=2,c=3)\n",
    "# fr=[]\n",
    "# def ss():\n",
    "#     global fr \n",
    "#     fa=['12','34']\n",
    "#     fr=fa\n",
    "#     # print(fa)\n",
    "# ss()\n",
    "# print(fr)\n",
    "def hub(ss,x=2.0,y=4.0):\n",
    "    ss+=x*y\n",
    "ss=10\n",
    "print(ss,hub(ss,3))"
   ]
  },
  {
   "cell_type": "markdown",
   "metadata": {},
   "source": [
    "***python的for和while都可以搭配else来使用，当条件程序正常退出的时候才会执行else，注意必须说正常退出，不正常退出和break都不会执行else***"
   ]
  },
  {
   "cell_type": "code",
   "execution_count": null,
   "metadata": {},
   "outputs": [],
   "source": [
    "# da=[1,2,3]\n",
    "# print(id(da))\n",
    "# def getda():\n",
    "#     fa=da.copy\n",
    "# 在for循环中，else块在循环正常结束时执行\n",
    "# for item in [1, 2, 3, 4, 5]:\n",
    "#     if item == 3:\n",
    "#         # print(\"现在到3了\")\n",
    "#         break\n",
    "# else:\n",
    "#     print(\"循环正常结束，没有找到 3\")\n",
    "# def print_msg():\n",
    "#     msg=5\n",
    "#     def printer():\n",
    "#         print(msg+5)\n",
    "#     return printer\n",
    "# closure=print_msg()\n",
    "# closure()\n",
    "\n",
    "def fun1():\n",
    "    print(\"in fun1()\")\n",
    "    fun2()\n",
    "    fun1()\n",
    "\n",
    "def fun2():\n",
    "    print(\"in fun2()\")\n",
    "    fun1()\n",
    "    fun2()\n",
    "\n",
    "\n"
   ]
  },
  {
   "cell_type": "code",
   "execution_count": null,
   "metadata": {},
   "outputs": [],
   "source": [
    "img1=[12,34,56,78]\n",
    "img2=[1,2,3,4,5]\n",
    "def display():\n",
    "    print(img1)\n",
    "\n",
    "def modify():\n",
    "    img1=img2\n",
    "    print(img1)\n",
    "modify()\n",
    "display()"
   ]
  },
  {
   "cell_type": "code",
   "execution_count": null,
   "metadata": {},
   "outputs": [],
   "source": [
    "def getNumber(filter,arrs):\n",
    "    return[filter(num) for num in arrs if filter is not None]\n",
    "def filter(num):\n",
    "    if num>5:\n",
    "        return num\n",
    "    else:\n",
    "        pass\n",
    "result=getNumber(filter,list(range(0,10,2)))\n",
    "print(result)\n"
   ]
  },
  {
   "cell_type": "code",
   "execution_count": null,
   "metadata": {},
   "outputs": [],
   "source": [
    "def test(b=2,a=4):\n",
    "    global z\n",
    "    z+=a*b\n",
    "    return z\n",
    "z=10\n",
    "print(z,test())"
   ]
  },
  {
   "cell_type": "code",
   "execution_count": null,
   "metadata": {},
   "outputs": [],
   "source": [
    "n=2\n",
    "def multiply(x,y=10):\n",
    "    global n\n",
    "    return x*y*n \n",
    "s=multiply(10,2)\n",
    "print(s)"
   ]
  },
  {
   "cell_type": "code",
   "execution_count": null,
   "metadata": {},
   "outputs": [],
   "source": [
    "def calu(x=3,y=2,z=10):\n",
    "    return (x**y*z)\n",
    "h=2 \n",
    "w=3\n",
    "print(calu(h,w))"
   ]
  },
  {
   "cell_type": "code",
   "execution_count": null,
   "metadata": {},
   "outputs": [],
   "source": [
    "import math\n",
    "def func_add(x,y,f):\n",
    "    return f(x)+f(y)\n",
    "print(func_add(4,25,math.sqrt))"
   ]
  },
  {
   "cell_type": "code",
   "execution_count": null,
   "metadata": {},
   "outputs": [],
   "source": [
    "ls=[]\n",
    "def func(a,b):\n",
    "    ls.append()\n",
    "    return a*b\n",
    "s=func(\"Hello!\",2)\n",
    "print(s,ls)"
   ]
  },
  {
   "cell_type": "code",
   "execution_count": null,
   "metadata": {},
   "outputs": [],
   "source": [
    "s=0\n",
    "def fun(num):\n",
    "    # try:\n",
    "        s+=num\n",
    "        print(\"s的值\")\n",
    "        return s\n",
    "    # except:\n",
    "    #     print(\"报错了\")\n",
    "    #     return 0\n",
    "print(fun(2))"
   ]
  },
  {
   "cell_type": "code",
   "execution_count": null,
   "metadata": {},
   "outputs": [],
   "source": [
    "x=(z for z in range(5))\n",
    "import random\n",
    "random.random()"
   ]
  },
  {
   "cell_type": "code",
   "execution_count": null,
   "metadata": {},
   "outputs": [],
   "source": [
    "# type(eval('45'))\n",
    "# eval('45')\n",
    "# da =[1,2,3]\n",
    "# print(id(da))\n",
    "# def getda():\n",
    "#     fa=da.copy()\n",
    "#     print(id(fa))\n",
    "# getda()\n",
    "# def sum(a,b):\n",
    "#     return a+b\n",
    "# sum(1,2)\n",
    "n=5\n",
    "0 not in [n%d for d in range(2,n)]"
   ]
  },
  {
   "cell_type": "markdown",
   "metadata": {},
   "source": [
    "***在同一个作用域中，局部变量会隐藏同名的全局的变量名嘛***\n",
    "\n"
   ]
  },
  {
   "cell_type": "code",
   "execution_count": null,
   "metadata": {},
   "outputs": [],
   "source": [
    "# str1=\"mysqlsqlserverPostgresQL\"\n",
    "# str2='sql'\n",
    "# ncout=str1.count(str2)\n",
    "# print(ncout)\n",
    "# print(1<<3)\n",
    "# a=5\n",
    "# b=6\n",
    "# c=7\n",
    "# print(pow(b,2)-4*a*c)\n",
    "# x=0x1010\n",
    "# print(x)\n",
    "# s=\" ssssssada  \"\n",
    "# s=str.strip(s)\n",
    "# print(s)\n",
    "# print(round)\n",
    "# x=12.34\n",
    "print(type(x))"
   ]
  },
  {
   "cell_type": "code",
   "execution_count": null,
   "metadata": {},
   "outputs": [],
   "source": [
    "chs = \"|'-'|\" \n",
    "for ch in chs: print(ch,end='')"
   ]
  },
  {
   "cell_type": "code",
   "execution_count": null,
   "metadata": {},
   "outputs": [],
   "source": [
    "# sum=0\n",
    "# for i in range(1,11):\n",
    "#     sum+=i\n",
    "#     print(sum)\n",
    "a=2\n",
    "b=2\n",
    "c=2.0\n",
    "print(a==b,a is b, a is c)"
   ]
  },
  {
   "cell_type": "code",
   "execution_count": null,
   "metadata": {},
   "outputs": [],
   "source": [
    "print(eval(\"4*2.5+10\"))"
   ]
  },
  {
   "cell_type": "code",
   "execution_count": null,
   "metadata": {},
   "outputs": [],
   "source": [
    "a=5/3+5//3\n",
    "print(a)"
   ]
  },
  {
   "cell_type": "code",
   "execution_count": null,
   "metadata": {},
   "outputs": [],
   "source": [
    "x=3.1415926\n",
    "print(round(x,2),round(x))"
   ]
  },
  {
   "cell_type": "code",
   "execution_count": null,
   "metadata": {},
   "outputs": [],
   "source": [
    "# oct(-255)\n",
    "# print(pow(2,10))\n",
    "# _MyGOd_=2\n",
    "# print('ab' in 'acbed')\n",
    "s=\"abcdefg\"\n",
    "print(s[::-1])\n",
    "x,y=4,5\n",
    "print(x|y)\n"
   ]
  },
  {
   "cell_type": "code",
   "execution_count": null,
   "metadata": {},
   "outputs": [],
   "source": [
    "string = \"Hello, how are you? Hello there!\"\n",
    "\n",
    "# 统计字母 'o' 在字符串中出现的次数\n",
    "count = string.count('?')\n",
    "\n",
    "print(count)  # 输出: 5"
   ]
  },
  {
   "cell_type": "code",
   "execution_count": null,
   "metadata": {},
   "outputs": [],
   "source": [
    "string = \"abcd\"\n",
    "\n",
    "# 查找子字符串 'cd' 在字符串中的位置\n",
    "position = string.find('cd')\n",
    "\n",
    "print(position)  # 输出: 2"
   ]
  },
  {
   "cell_type": "code",
   "execution_count": null,
   "metadata": {
    "scrolled": true
   },
   "outputs": [],
   "source": [
    "from IPython.display import HTML\n",
    "HTML(\"../html_src/10.html\")"
   ]
  },
  {
   "cell_type": "code",
   "execution_count": 3,
   "metadata": {},
   "outputs": [
    {
     "name": "stdout",
     "output_type": "stream",
     "text": [
      "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\n",
      "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\n"
     ]
    }
   ],
   "source": [
    "import random\n",
    "import string\n",
    "\n",
    "# 生成随机字符串的函数\n",
    "def generate_random_string(length):\n",
    "    letters = string.ascii_letters  # 包括大小写字母的所有字母\n",
    "    return ''.join(random.choice(letters) for _ in range(length))\n",
    "\n",
    "# 生成两个长度为 10000 的随机字符串\n",
    "random_string1 = generate_random_string(10000)\n",
    "random_string2 = generate_random_string(10000)\n",
    "\n",
    "\n",
    "print(random_string1)\n",
    "print(random_string2)\n",
    "\n",
    "\n"
   ]
  },
  {
   "cell_type": "code",
   "execution_count": null,
   "metadata": {},
   "outputs": [],
   "source": []
  },
  {
   "cell_type": "code",
   "execution_count": null,
   "metadata": {},
   "outputs": [],
   "source": []
  }
 ],
 "metadata": {
  "celltoolbar": "幻灯片",
  "custom": {
   "css": "/Users/mayphyr/Public/jupyter_style/custom-style.css"
  },
  "kernelspec": {
   "display_name": "Python 3 (ipykernel)",
   "language": "python",
   "name": "python3"
  },
  "language_info": {
   "codemirror_mode": {
    "name": "ipython",
    "version": 3
   },
   "file_extension": ".py",
   "mimetype": "text/x-python",
   "name": "python",
   "nbconvert_exporter": "python",
   "pygments_lexer": "ipython3",
   "version": "3.11.0"
  }
 },
 "nbformat": 4,
 "nbformat_minor": 2
}

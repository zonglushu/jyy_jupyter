{
 "cells": [
  {
   "cell_type": "code",
   "execution_count": 3,
   "metadata": {},
   "outputs": [],
   "source": [
    "from __future__ import print_function\n",
    "from ipywidgets import interact, interactive, fixed, interact_manual\n",
    "import ipywidgets as widgets\n",
    "from IPython.display import display, display_html\n",
    "from traitlets import Unicode, Bool, validate, TraitError\n",
    "from ipywidgets import DOMWidget, register\n",
    "\n",
    "@register\n",
    "class Email(DOMWidget):\n",
    "    _view_name = Unicode('EmailView').tag(sync=True)\n",
    "    _view_module = Unicode('email_widget').tag(sync=True)\n",
    "    _view_module_version = Unicode('0.1.0').tag(sync=True)\n",
    "\n"
   ]
  },
  {
   "cell_type": "code",
   "execution_count": 4,
   "metadata": {},
   "outputs": [
    {
     "data": {
      "application/javascript": "require.undef('email_widget');\n\ndefine('email_widget', [\"@jupyter-widgets/base\"], function(widgets) {\n\n    var EmailView = widgets.DOMWidgetView.extend({\n\n        // Render the view.\n        render: function() {\n            this.email_input = document.createElement('input');\n            this.email_input.type = 'email';\n            this.email_input.value = this.model.get('value');\n            this.email_input.disabled = this.model.get('disabled');\n\n            this.el.appendChild(this.email_input);\n        },\n    });\n\n    return {\n        EmailView: EmailView\n    };\n});\n",
      "text/plain": [
       "<IPython.core.display.Javascript object>"
      ]
     },
     "metadata": {},
     "output_type": "display_data"
    }
   ],
   "source": [
    "%%javascript\n",
    "require.undef('email_widget');\n",
    "\n",
    "define('email_widget', [\"@jupyter-widgets/base\"], function(widgets) {\n",
    "\n",
    "    var EmailView = widgets.DOMWidgetView.extend({\n",
    "\n",
    "        // Render the view.\n",
    "        render: function() {\n",
    "            this.email_input = document.createElement('input');\n",
    "            this.email_input.type = 'email';\n",
    "            this.email_input.value = this.model.get('value');\n",
    "            this.email_input.disabled = this.model.get('disabled');\n",
    "\n",
    "            this.el.appendChild(this.email_input);\n",
    "        },\n",
    "    });\n",
    "\n",
    "    return {\n",
    "        EmailView: EmailView\n",
    "    };\n",
    "});"
   ]
  },
  {
   "cell_type": "code",
   "execution_count": 3,
   "metadata": {},
   "outputs": [
    {
     "data": {
      "application/vnd.jupyter.widget-view+json": {
       "model_id": "f121d92e85084d5e95a43e73fb4cc995",
       "version_major": 2,
       "version_minor": 0
      },
      "text/plain": [
       "Email()"
      ]
     },
     "execution_count": 3,
     "metadata": {},
     "output_type": "execute_result"
    }
   ],
   "source": [
    "Email(value='test@test.com', disabled=False)"
   ]
  },
  {
   "cell_type": "code",
   "execution_count": 6,
   "metadata": {},
   "outputs": [],
   "source": [
    "import json\n",
    "\n",
    "from ipywidgets import IntSlider\n",
    "from ipywidgets.embed import embed_data\n",
    "\n",
    "s1 = IntSlider(max=200, value=100)\n",
    "s2 = IntSlider(value=40)\n",
    "data = embed_data(views=[s1, s2])\n",
    "\n",
    "html_template = \"\"\"\n",
    "<html>\n",
    "  <head>\n",
    "\n",
    "    <title>Widget export</title>\n",
    "\n",
    "    <!-- Load RequireJS, used by the IPywidgets for dependency management -->\n",
    "    <script \n",
    "      src=\"https://cdnjs.cloudflare.com/ajax/libs/require.js/2.3.4/require.min.js\" \n",
    "      integrity=\"sha256-Ae2Vz/4ePdIu6ZyI/5ZGsYnb+m0JlOmKPjt6XZ9JJkA=\" \n",
    "      crossorigin=\"anonymous\">\n",
    "    </script>\n",
    "\n",
    "    <!-- Load IPywidgets bundle for embedding. -->\n",
    "    <script\n",
    "      data-jupyter-widgets-cdn=\"https://cdn.jsdelivr.net/npm/\"\n",
    "      src=\"https://unpkg.com/@jupyter-widgets/html-manager@*/dist/embed-amd.js\" \n",
    "      crossorigin=\"anonymous\">\n",
    "    </script>\n",
    "\n",
    "    <!-- The state of all the widget models on the page -->\n",
    "    <script type=\"application/vnd.jupyter.widget-state+json\">\n",
    "      {manager_state}\n",
    "    </script>\n",
    "  </head>\n",
    "\n",
    "  <body>\n",
    "\n",
    "    <h1>Widget export</h1>\n",
    "\n",
    "    <div id=\"first-slider-widget\">\n",
    "      <!-- This script tag will be replaced by the view's DOM tree -->\n",
    "      <script type=\"application/vnd.jupyter.widget-view+json\">\n",
    "        {widget_views[0]}\n",
    "      </script>\n",
    "    </div>\n",
    "\n",
    "    <hrule />\n",
    "\n",
    "    <div id=\"second-slider-widget\">\n",
    "      <!-- This script tag will be replaced by the view's DOM tree -->\n",
    "      <script type=\"application/vnd.jupyter.widget-view+json\">\n",
    "        {widget_views[1]}\n",
    "      </script>\n",
    "    </div>\n",
    "\n",
    "  </body>\n",
    "</html>\n",
    "\"\"\"\n",
    "\n",
    "manager_state = json.dumps(data['manager_state'])\n",
    "widget_views = [json.dumps(view) for view in data['view_specs']]\n",
    "rendered_template = html_template.format(manager_state=manager_state, widget_views=widget_views)\n",
    "with open('export.html', 'w') as fp:\n",
    "    fp.write(rendered_template)"
   ]
  },
  {
   "cell_type": "code",
   "execution_count": 9,
   "metadata": {},
   "outputs": [
    {
     "data": {
      "text/html": [
       "<!DOCTYPE html>\n",
       "<html lang=\"en\">\n",
       "<head>\n",
       "    <meta charset=\"UTF-8\">\n",
       "    <title>IPyWidget export</title>\n",
       "</head>\n",
       "<body>\n",
       "\n",
       "\n",
       "<!-- Load require.js. Delete this if your page already loads require.js -->\n",
       "<script src=\"https://cdnjs.cloudflare.com/ajax/libs/require.js/2.3.4/require.min.js\" integrity=\"sha256-Ae2Vz/4ePdIu6ZyI/5ZGsYnb+m0JlOmKPjt6XZ9JJkA=\" crossorigin=\"anonymous\"></script>\n",
       "<script src=\"https://cdn.jsdelivr.net/npm/@jupyter-widgets/html-manager@^1.0.1/dist/embed-amd.js\" crossorigin=\"anonymous\"></script>\n",
       "\n",
       "<script type=\"application/vnd.jupyter.widget-state+json\">\n",
       "{\n",
       "  \"version_major\": 2,\n",
       "  \"version_minor\": 0,\n",
       "  \"state\": {\n",
       "    \"1d5b7576401248309c90e403220bf52d\": {\n",
       "      \"model_name\": \"IntSliderModel\",\n",
       "      \"model_module\": \"@jupyter-widgets/controls\",\n",
       "      \"model_module_version\": \"2.0.0\",\n",
       "      \"state\": {\n",
       "        \"_dom_classes\": [],\n",
       "        \"layout\": \"IPY_MODEL_5cdb43073cd84afc8083c95c2c7b0941\",\n",
       "        \"max\": 200,\n",
       "        \"style\": \"IPY_MODEL_a26ecc2fb47547e1baa57dbeda6c1f60\",\n",
       "        \"value\": 100\n",
       "      }\n",
       "    },\n",
       "    \"5cdb43073cd84afc8083c95c2c7b0941\": {\n",
       "      \"model_name\": \"LayoutModel\",\n",
       "      \"model_module\": \"@jupyter-widgets/base\",\n",
       "      \"model_module_version\": \"2.0.0\",\n",
       "      \"state\": {}\n",
       "    },\n",
       "    \"a26ecc2fb47547e1baa57dbeda6c1f60\": {\n",
       "      \"model_name\": \"SliderStyleModel\",\n",
       "      \"model_module\": \"@jupyter-widgets/controls\",\n",
       "      \"model_module_version\": \"2.0.0\",\n",
       "      \"state\": {}\n",
       "    },\n",
       "    \"7b71cfd4e1b94d57a60d6103b2ab3de7\": {\n",
       "      \"model_name\": \"IntSliderModel\",\n",
       "      \"model_module\": \"@jupyter-widgets/controls\",\n",
       "      \"model_module_version\": \"2.0.0\",\n",
       "      \"state\": {\n",
       "        \"_dom_classes\": [],\n",
       "        \"layout\": \"IPY_MODEL_b4099369059d4426b469c19d5948d206\",\n",
       "        \"style\": \"IPY_MODEL_a2b205a52e964b4cac49c2c42b01f40b\",\n",
       "        \"value\": 40\n",
       "      }\n",
       "    },\n",
       "    \"b4099369059d4426b469c19d5948d206\": {\n",
       "      \"model_name\": \"LayoutModel\",\n",
       "      \"model_module\": \"@jupyter-widgets/base\",\n",
       "      \"model_module_version\": \"2.0.0\",\n",
       "      \"state\": {}\n",
       "    },\n",
       "    \"a2b205a52e964b4cac49c2c42b01f40b\": {\n",
       "      \"model_name\": \"SliderStyleModel\",\n",
       "      \"model_module\": \"@jupyter-widgets/controls\",\n",
       "      \"model_module_version\": \"2.0.0\",\n",
       "      \"state\": {}\n",
       "    }\n",
       "  }\n",
       "}\n",
       "</script>\n",
       "<script type=\"application/vnd.jupyter.widget-view+json\">\n",
       "{\"version_major\": 2, \"version_minor\": 0, \"model_id\": \"1d5b7576401248309c90e403220bf52d\"}\n",
       "</script>\n",
       "<script type=\"application/vnd.jupyter.widget-view+json\">\n",
       "{\"version_major\": 2, \"version_minor\": 0, \"model_id\": \"7b71cfd4e1b94d57a60d6103b2ab3de7\"}\n",
       "</script>\n",
       "\n",
       "</body>\n",
       "</html>\n"
      ],
      "text/plain": [
       "<IPython.core.display.HTML object>"
      ]
     },
     "execution_count": 9,
     "metadata": {},
     "output_type": "execute_result"
    }
   ],
   "source": [
    "from ipywidgets.embed import embed_minimal_html, dependency_state\n",
    "from IPython.display import HTML\n",
    "s1 = IntSlider(max=200, value=100)\n",
    "s2 = IntSlider(value=40)\n",
    "HTML(\"./export.html\")\n",
    "embed_minimal_html('export.html', views=[s1, s2], state=dependency_state([s1, s2]))\n"
   ]
  },
  {
   "cell_type": "code",
   "execution_count": 3,
   "metadata": {},
   "outputs": [
    {
     "data": {
      "text/html": [
       "<!DOCTYPE html>\n",
       "<html>\n",
       "\n",
       "<head>\n",
       "    <style>\n",
       "        .slide-background-content {\n",
       "            height: 420px;\n",
       "            width: 607px;\n",
       "        }\n",
       "\n",
       "        .slideshow {\n",
       "            border: none;\n",
       "            width: 100%;\n",
       "            height: 100%;\n",
       "        }\n",
       "    </style>\n",
       "</head>\n",
       "\n",
       "<body>\n",
       "    <div class=\"slide-background-content\">\n",
       "        <iframe class=\"slideshow\" src=\"../html_src/ruankao/dist/gener1.html\"></iframe>\n",
       "    </div>\n",
       "\n",
       "    <!-- 此部分将由用户指定的 HTML 内容填充 -->\n",
       "</body>\n",
       "\n",
       "</html>"
      ],
      "text/plain": [
       "<IPython.core.display.HTML object>"
      ]
     },
     "execution_count": 3,
     "metadata": {},
     "output_type": "execute_result"
    }
   ],
   "source": [
    "from IPython.display import display, HTML\n",
    "HTML(\"../html_src/10.html\")"
   ]
  }
 ],
 "metadata": {
  "kernelspec": {
   "display_name": "dataprocess",
   "language": "python",
   "name": "python3"
  },
  "language_info": {
   "codemirror_mode": {
    "name": "ipython",
    "version": 3
   },
   "file_extension": ".py",
   "mimetype": "text/x-python",
   "name": "python",
   "nbconvert_exporter": "python",
   "pygments_lexer": "ipython3",
   "version": "3.11.5"
  }
 },
 "nbformat": 4,
 "nbformat_minor": 2
}
